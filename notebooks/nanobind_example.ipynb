{
 "cells": [
  {
   "cell_type": "code",
   "execution_count": 1,
   "id": "6c25fda2",
   "metadata": {},
   "outputs": [],
   "source": [
    "import nanobind_example as ne"
   ]
  },
  {
   "cell_type": "code",
   "execution_count": 2,
   "id": "26e1e66e",
   "metadata": {},
   "outputs": [
    {
     "data": {
      "text/plain": [
       "['__builtins__',\n",
       " '__cached__',\n",
       " '__doc__',\n",
       " '__file__',\n",
       " '__loader__',\n",
       " '__name__',\n",
       " '__package__',\n",
       " '__path__',\n",
       " '__spec__',\n",
       " 'add',\n",
       " 'nanobind_example_ext']"
      ]
     },
     "execution_count": 2,
     "metadata": {},
     "output_type": "execute_result"
    }
   ],
   "source": [
    "dir(ne)"
   ]
  },
  {
   "cell_type": "code",
   "execution_count": 3,
   "id": "678a621e",
   "metadata": {},
   "outputs": [
    {
     "data": {
      "text/plain": [
       "3"
      ]
     },
     "execution_count": 3,
     "metadata": {},
     "output_type": "execute_result"
    }
   ],
   "source": [
    "ne.add(1,2)"
   ]
  },
  {
   "cell_type": "code",
   "execution_count": 4,
   "id": "025ed7a4",
   "metadata": {},
   "outputs": [
    {
     "ename": "AttributeError",
     "evalue": "module 'nanobind_example' has no attribute 'mandelbrot_ispc'",
     "output_type": "error",
     "traceback": [
      "\u001b[31m---------------------------------------------------------------------------\u001b[39m",
      "\u001b[31mAttributeError\u001b[39m                            Traceback (most recent call last)",
      "\u001b[36mCell\u001b[39m\u001b[36m \u001b[39m\u001b[32mIn[4]\u001b[39m\u001b[32m, line 1\u001b[39m\n\u001b[32m----> \u001b[39m\u001b[32m1\u001b[39m \u001b[43mne\u001b[49m\u001b[43m.\u001b[49m\u001b[43mmandelbrot_ispc\u001b[49m()\n",
      "\u001b[31mAttributeError\u001b[39m: module 'nanobind_example' has no attribute 'mandelbrot_ispc'"
     ]
    }
   ],
   "source": [
    "ne.mandelbrot_ispc()"
   ]
  }
 ],
 "metadata": {
  "kernelspec": {
   "display_name": ".venv",
   "language": "python",
   "name": "python3"
  },
  "language_info": {
   "codemirror_mode": {
    "name": "ipython",
    "version": 3
   },
   "file_extension": ".py",
   "mimetype": "text/x-python",
   "name": "python",
   "nbconvert_exporter": "python",
   "pygments_lexer": "ipython3",
   "version": "3.12.3"
  }
 },
 "nbformat": 4,
 "nbformat_minor": 5
}
